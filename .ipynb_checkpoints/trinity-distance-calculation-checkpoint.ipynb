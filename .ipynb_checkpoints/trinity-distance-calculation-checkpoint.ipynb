{
 "cells": [
  {
   "cell_type": "markdown",
   "metadata": {},
   "source": [
    "## Naive calculation\n",
    "\n",
    "Calcuating distance with a naive assumption that an APRES message will contain random elements of P (malicious nodes are not biased towards sending only malicious nodes during discovery request)"
   ]
  },
  {
   "cell_type": "code",
   "execution_count": 18,
   "metadata": {},
   "outputs": [
    {
     "data": {
      "text/plain": [
       "1.0"
      ]
     },
     "execution_count": 18,
     "metadata": {},
     "output_type": "execute_result"
    }
   ],
   "source": [
    "import scipy.special as sc\n",
    "\n",
    "def probability(N, m, n, k):\n",
    "    return sc.binom(m, k) * sc.binom(N-m, n-k) / sc.binom(N, n)\n",
    "\n",
    "def distance(N, m, n):\n",
    "    suggested_distance = 0\n",
    "    for j in range(0, m):\n",
    "        suggested_distance += probability(N, m, n, j)\n",
    "    return suggested_distance\n",
    "\n",
    "distance(5, 3, 2)"
   ]
  },
  {
   "cell_type": "code",
   "execution_count": null,
   "metadata": {},
   "outputs": [],
   "source": []
  }
 ],
 "metadata": {
  "kernelspec": {
   "display_name": "Python 3",
   "language": "python",
   "name": "python3"
  },
  "language_info": {
   "codemirror_mode": {
    "name": "ipython",
    "version": 3
   },
   "file_extension": ".py",
   "mimetype": "text/x-python",
   "name": "python",
   "nbconvert_exporter": "python",
   "pygments_lexer": "ipython3",
   "version": "3.7.3"
  }
 },
 "nbformat": 4,
 "nbformat_minor": 2
}
