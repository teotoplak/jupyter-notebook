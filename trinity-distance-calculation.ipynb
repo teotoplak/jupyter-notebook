{
 "cells": [
  {
   "cell_type": "markdown",
   "metadata": {},
   "source": [
    "## Naive distance calculation\n",
    "\n",
    "Calcuating distance with a naive assumption that an APRES message will contain random elements of P (malicious nodes are not biased towards sending only malicious nodes during discovery request)"
   ]
  },
  {
   "cell_type": "code",
   "execution_count": 59,
   "metadata": {},
   "outputs": [
    {
     "data": {
      "text/plain": [
       "4.325396825396825"
      ]
     },
     "execution_count": 59,
     "metadata": {},
     "output_type": "execute_result"
    }
   ],
   "source": [
    "import scipy.special as sc\n",
    "import numpy\n",
    "\n",
    "def hypergeometric_probability(N, m, n, k):\n",
    "    return sc.binom(m, k) * sc.binom(N-m, n-k) / sc.binom(N, n)\n",
    "\n",
    "def draw_amount_expectation_matrix_markov(transition_matrix):\n",
    "    transition_matrix = transition_matrix[:-1,:-1]\n",
    "    return numpy.linalg.inv(numpy.identity(len(transition_matrix)) - transition_matrix)\n",
    "\n",
    "def draw_amount_transition_matrix_markov(S, M, n):\n",
    "    s = (M + 1, M + 1)\n",
    "    P = numpy.zeros(s)\n",
    "    for row in range(M + 1):\n",
    "        for column in range(M + 1):\n",
    "            if row > column:\n",
    "                continue\n",
    "            else:\n",
    "                P[row][column] = hypergeometric_probability(S, M - row, n, column - row)\n",
    "    return P\n",
    "\n",
    "\n",
    "def expected_draws(S, M, n):\n",
    "    transition_matrix = draw_amount_transition_matrix_markov(S, M, n)\n",
    "    S = draw_amount_expectation_matrix_markov(transition_matrix)\n",
    "    return sum(S[0,:])\n",
    "                          \n",
    "matrix = draw_amount_transition_matrix_markov(5,3,2)\n",
    "draw_amount_expectation_matrix_markov(matrix)\n",
    "expected_draws(5, 3, 2)"
   ]
  },
  {
   "cell_type": "code",
   "execution_count": null,
   "metadata": {},
   "outputs": [],
   "source": []
  },
  {
   "cell_type": "code",
   "execution_count": null,
   "metadata": {},
   "outputs": [],
   "source": []
  }
 ],
 "metadata": {
  "kernelspec": {
   "display_name": "Python 3",
   "language": "python",
   "name": "python3"
  },
  "language_info": {
   "codemirror_mode": {
    "name": "ipython",
    "version": 3
   },
   "file_extension": ".py",
   "mimetype": "text/x-python",
   "name": "python",
   "nbconvert_exporter": "python",
   "pygments_lexer": "ipython3",
   "version": "3.7.3"
  }
 },
 "nbformat": 4,
 "nbformat_minor": 2
}
